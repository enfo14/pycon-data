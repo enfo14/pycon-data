{
 "cells": [
  {
   "cell_type": "markdown",
   "metadata": {},
   "source": [
    "# 2018 PyCon UK - Understanding sample bias in surveys about web services\n",
    "\n",
    "**A fundamental problem of applying surveys about specialised topics or designed for a particular community is the underlying sample bias. We have designed a simple survey that asks respondents to score a set of web services in several aspects, including the quality of their software, their social and environmental impact, and their efforts in user experience (UX) and customer support. The survey has been applied separately to the developer team at Omni Digital, and to the attendees at *2018 PyCon UK*, which took place between 15/09 and 19/09.**\n",
    "\n",
    "The following analysis cleans up the data and uses a two-sample Kolmogorov-Smirnov test to assess whether there are any differences between the distributions of scores throughout the entire dataset, for each attribute. This is a first step towards a method to effectively recognise and assess fundamental differences in concept between two communities, as well as to explore the possibility that specialised knowledge may have a direct influence in the wider scope of things."
   ]
  },
  {
   "cell_type": "code",
   "execution_count": 1,
   "metadata": {},
   "outputs": [],
   "source": [
    "import numpy as np\n",
    "import pandas as pd\n",
    "import matplotlib.pyplot as plt\n",
    "from sklearn.neighbors import LocalOutlierFactor"
   ]
  },
  {
   "cell_type": "code",
   "execution_count": 2,
   "metadata": {},
   "outputs": [],
   "source": [
    "# This cell reads the data from the API and cleans it up, removing unnecessary fields\n",
    "fulldf = pd.read_json(\"http://pycon-data.omni-digital.co.uk/api/v1/survey_instances/?format=json\")\n",
    "df = fulldf[['completed_at', 'name', 'main', 'support', 'social', 'total']]\n",
    "df = df.set_index('completed_at')\n",
    "\n",
    "# All surveys corresponding to the Omni Digital team were taken on 14/09, while PyCon was held 15/09 to 19/09.\n",
    "omni = df[:pd.datetime(2018,9,14,23,59)]\n",
    "pycon = df[pd.datetime(2018,9,15):pd.datetime(2018,9,19,23,59)]"
   ]
  },
  {
   "cell_type": "code",
   "execution_count": 9,
   "metadata": {
    "scrolled": true
   },
   "outputs": [
    {
     "name": "stdout",
     "output_type": "stream",
     "text": [
      "The following services have been used:\n",
      "\tGoogle Analytics\n",
      "\tAmazon AWS\n",
      "\tNetflix\n",
      "\tFacebook\n",
      "\tUber\n",
      "\tSpotify\n",
      "\tSquarespace\n",
      "\tTwitter\n",
      "\tPaypal\n",
      "\tSlack\n",
      "\tReddit\n",
      "\n",
      "A total of 30 surveys have been submitted, of which:\n",
      "\t8 are from Omni Digital\n",
      "\t22 are from 2018 PyCon UK\n"
     ]
    }
   ],
   "source": [
    "# We can obtain some basic information about the data set, including the list of services and the number of surveys\n",
    "services = df.name.unique()\n",
    "print(f\"The following services have been used:\")\n",
    "for service in services:\n",
    "    print(f\"\\t{service}\")\n",
    "\n",
    "total_count = fulldf.login.unique().size\n",
    "omni_count = omni.loc[omni['name'] == 'Facebook'].name.count()\n",
    "pycon_count = pycon.loc[pycon['name'] == 'Facebook'].name.count()\n",
    "\n",
    "print(f\"\\nA total of {total_count} surveys have been submitted, of which:\")\n",
    "print(f\"\\t{omni_count} are from Omni Digital\")\n",
    "print(f\"\\t{pycon_count} are from 2018 PyCon UK\")"
   ]
  },
  {
   "cell_type": "markdown",
   "metadata": {},
   "source": [
    "## Omni Digital"
   ]
  },
  {
   "cell_type": "code",
   "execution_count": 13,
   "metadata": {
    "scrolled": false
   },
   "outputs": [
    {
     "name": "stdout",
     "output_type": "stream",
     "text": [
      "With regards to the breakdown by service, a majority of services have a score between 5 and 7.5:\n"
     ]
    },
    {
     "data": {
      "text/html": [
       "<div>\n",
       "<style scoped>\n",
       "    .dataframe tbody tr th:only-of-type {\n",
       "        vertical-align: middle;\n",
       "    }\n",
       "\n",
       "    .dataframe tbody tr th {\n",
       "        vertical-align: top;\n",
       "    }\n",
       "\n",
       "    .dataframe thead th {\n",
       "        text-align: right;\n",
       "    }\n",
       "</style>\n",
       "<table border=\"1\" class=\"dataframe\">\n",
       "  <thead>\n",
       "    <tr style=\"text-align: right;\">\n",
       "      <th></th>\n",
       "      <th>main</th>\n",
       "      <th>support</th>\n",
       "      <th>social</th>\n",
       "      <th>total</th>\n",
       "    </tr>\n",
       "    <tr>\n",
       "      <th>name</th>\n",
       "      <th></th>\n",
       "      <th></th>\n",
       "      <th></th>\n",
       "      <th></th>\n",
       "    </tr>\n",
       "  </thead>\n",
       "  <tbody>\n",
       "    <tr>\n",
       "      <th>Slack</th>\n",
       "      <td>8.375000</td>\n",
       "      <td>7.285714</td>\n",
       "      <td>7.500000</td>\n",
       "      <td>7.750000</td>\n",
       "    </tr>\n",
       "    <tr>\n",
       "      <th>Google Analytics</th>\n",
       "      <td>8.375000</td>\n",
       "      <td>6.125000</td>\n",
       "      <td>5.125000</td>\n",
       "      <td>7.291667</td>\n",
       "    </tr>\n",
       "    <tr>\n",
       "      <th>Netflix</th>\n",
       "      <td>9.000000</td>\n",
       "      <td>6.250000</td>\n",
       "      <td>5.750000</td>\n",
       "      <td>7.270833</td>\n",
       "    </tr>\n",
       "    <tr>\n",
       "      <th>Amazon AWS</th>\n",
       "      <td>8.375000</td>\n",
       "      <td>6.428571</td>\n",
       "      <td>4.571429</td>\n",
       "      <td>6.937500</td>\n",
       "    </tr>\n",
       "    <tr>\n",
       "      <th>Uber</th>\n",
       "      <td>7.750000</td>\n",
       "      <td>6.250000</td>\n",
       "      <td>5.250000</td>\n",
       "      <td>6.666667</td>\n",
       "    </tr>\n",
       "    <tr>\n",
       "      <th>Spotify</th>\n",
       "      <td>7.750000</td>\n",
       "      <td>5.750000</td>\n",
       "      <td>5.625000</td>\n",
       "      <td>6.583333</td>\n",
       "    </tr>\n",
       "    <tr>\n",
       "      <th>Paypal</th>\n",
       "      <td>7.125000</td>\n",
       "      <td>5.250000</td>\n",
       "      <td>6.000000</td>\n",
       "      <td>6.333333</td>\n",
       "    </tr>\n",
       "    <tr>\n",
       "      <th>Squarespace</th>\n",
       "      <td>5.714286</td>\n",
       "      <td>5.571429</td>\n",
       "      <td>5.333333</td>\n",
       "      <td>5.595238</td>\n",
       "    </tr>\n",
       "    <tr>\n",
       "      <th>Reddit</th>\n",
       "      <td>5.875000</td>\n",
       "      <td>3.375000</td>\n",
       "      <td>5.375000</td>\n",
       "      <td>5.145833</td>\n",
       "    </tr>\n",
       "    <tr>\n",
       "      <th>Twitter</th>\n",
       "      <td>5.000000</td>\n",
       "      <td>3.625000</td>\n",
       "      <td>4.375000</td>\n",
       "      <td>4.952381</td>\n",
       "    </tr>\n",
       "    <tr>\n",
       "      <th>Facebook</th>\n",
       "      <td>3.375000</td>\n",
       "      <td>1.625000</td>\n",
       "      <td>1.250000</td>\n",
       "      <td>2.714286</td>\n",
       "    </tr>\n",
       "  </tbody>\n",
       "</table>\n",
       "</div>"
      ],
      "text/plain": [
       "                      main   support    social     total\n",
       "name                                                    \n",
       "Slack             8.375000  7.285714  7.500000  7.750000\n",
       "Google Analytics  8.375000  6.125000  5.125000  7.291667\n",
       "Netflix           9.000000  6.250000  5.750000  7.270833\n",
       "Amazon AWS        8.375000  6.428571  4.571429  6.937500\n",
       "Uber              7.750000  6.250000  5.250000  6.666667\n",
       "Spotify           7.750000  5.750000  5.625000  6.583333\n",
       "Paypal            7.125000  5.250000  6.000000  6.333333\n",
       "Squarespace       5.714286  5.571429  5.333333  5.595238\n",
       "Reddit            5.875000  3.375000  5.375000  5.145833\n",
       "Twitter           5.000000  3.625000  4.375000  4.952381\n",
       "Facebook          3.375000  1.625000  1.250000  2.714286"
      ]
     },
     "execution_count": 13,
     "metadata": {},
     "output_type": "execute_result"
    }
   ],
   "source": [
    "services = omni.groupby('name').mean().sort_values('total', ascending=False)\n",
    "\n",
    "print(f\"With regards to the breakdown by service, a majority of services have a score between 5 and 7.5:\")\n",
    "services"
   ]
  },
  {
   "cell_type": "code",
   "execution_count": 23,
   "metadata": {},
   "outputs": [
    {
     "data": {
      "image/png": "[encoded data removed]",
      "text/plain": [
       "<Figure size 432x288 with 1 Axes>"
      ]
     },
     "metadata": {
      "needs_background": "light"
     },
     "output_type": "display_data"
    }
   ],
   "source": [
    "omni_boxplot = services.boxplot()\n",
    "plt.ylim([0,10])\n",
    "omni_boxplot_ylabel = plt.ylabel(f\"Average score\")"
   ]
  },
  {
   "cell_type": "markdown",
   "metadata": {},
   "source": [
    "The box plot also shows us that, generally, the `main` scores are higher and have larger dispersion than those in `support` and `social` aspects. However, this plot ignores the dispersion within the scoring of each service, and only compares across services."
   ]
  },
  {
   "cell_type": "markdown",
   "metadata": {},
   "source": [
    "On the other hand, if we calculate the probability mass function (pmf) and the cumulative mass function (cmf) across the entire dataset, the dispersion is better accounted for."
   ]
  },
  {
   "cell_type": "code",
   "execution_count": 68,
   "metadata": {},
   "outputs": [],
   "source": [
    "bins = pd.interval_range(start=-0.5, end=10.5)\n",
    "freq = omni.drop(['name'], axis=1).apply(pd.Series.value_counts, sort=False, bins=bins)\n",
    "pmf = freq/np.sum(freq)\n",
    "cmf = np.cumsum(pmf)"
   ]
  },
  {
   "cell_type": "code",
   "execution_count": 80,
   "metadata": {},
   "outputs": [
    {
     "data": {
      "image/png": "[encoded data removed]",
      "text/plain": [
       "<Figure size 432x288 with 1 Axes>"
      ]
     },
     "metadata": {
      "needs_background": "light"
     },
     "output_type": "display_data"
    }
   ],
   "source": [
    "for key in cmf.keys():\n",
    "    plt.plot(bins.mid, cmf[key])\n",
    "\n",
    "legend = plt.legend()\n",
    "xlabel = plt.xlabel(f\"Score\")\n",
    "ylabel = plt.ylabel(f\"Cumulative mass function\")"
   ]
  },
  {
   "cell_type": "markdown",
   "metadata": {},
   "source": [
    "We can see that there seems to be an alignment of the scores in `social` and `support` attributes, but the `main` scores seem to follow a different distribution. We can test whether this assumption is statistically significant using a two-sample Kolmogorov-Smirnov test. The statistic is calculated as the supremum of the absolute differences:\n",
    "\n",
    "$$ D_{n,m} = \\sup_x \\left| F_{1,n}(x) - F_{2,m}(x) \\right|,$$\n",
    "\n",
    "and the null hypothesis, which can be phrased as \"_the two samples are drawn from the same distribution_\", is rejected if:\n",
    "\n",
    "$$ D_{n,m} > c(\\alpha)\\sqrt{\\frac{n + m}{nm}}.$$\n",
    "\n",
    "In general, the value of the baseline $c(\\alpha)$ is given by:\n",
    "\n",
    "$$ c(\\alpha) = \\sqrt{-\\frac{1}{2}\\ln\\left(\\frac{\\alpha}{2}\\right)} $$\n",
    "\n",
    "Alternatively, we can calculate the p-value of a given $D_{n,m}$ with known $n$ and $m$ by re-writing the formula:\n",
    "\n",
    "$$ p\\left(D_{n,m}, n, m\\right) = 2e^{-2D_{n,m}^2\\frac{nm}{n+m}} $$"
   ]
  },
  {
   "cell_type": "code",
   "execution_count": 83,
   "metadata": {},
   "outputs": [
    {
     "name": "stdout",
     "output_type": "stream",
     "text": [
      "main\tsupport\t0.34901960784313724\t0.2071225423255308\t5.648703459912517e-05\tTrue\n",
      "main\tsocial\t0.3254901960784313\t0.2071225423255308\t0.00022112253791288142\tTrue\n",
      "support\tmain\t0.34901960784313724\t0.2071225423255308\t5.648703459912517e-05\tTrue\n",
      "support\tsocial\t0.047058823529411764\t0.20832326277472024\t1.6568395240038107\tFalse\n",
      "social\tmain\t0.3254901960784313\t0.2071225423255308\t0.00022112253791288101\tTrue\n",
      "social\tsupport\t0.047058823529411764\t0.20832326277472024\t1.6568395240038107\tFalse\n"
     ]
    }
   ],
   "source": [
    "def c(a):\n",
    "    return np.sqrt(-0.5*np.log(a/2))\n",
    "\n",
    "def pval(d, n, m):\n",
    "    return 2*np.exp(-2*d**2*n*m/(n+m))\n",
    "\n",
    "for key1 in cmf.drop(['total'], axis=1).keys():\n",
    "    n = np.sum(freq[key1])\n",
    "    for key2 in cmf.drop(['total', key1], axis=1).keys():\n",
    "        m = np.sum(freq[key2])\n",
    "        dnm = np.max(np.abs(cmf[key1]-cmf[key2]))\n",
    "        ca = c(0.05)*np.sqrt((n+m)/(n*m))\n",
    "        pv = pval(dnm, n, m)\n",
    "        \n",
    "        print(f\"{key1}\\t{key2}\\t{dnm}\\t{ca}\\t{pv}\\t{dnm>ca}\")"
   ]
  },
  {
   "cell_type": "markdown",
   "metadata": {},
   "source": [
    "These results show that there is a significant difference between the distributions obtained for the `main` scores and the `social` and `support` scores. It is a good indicator that the expectations of the "
   ]
  }
 ],
 "metadata": {
  "kernelspec": {
   "display_name": "Python 3",
   "language": "python",
   "name": "python3"
  },
  "language_info": {
   "codemirror_mode": {
    "name": "ipython",
    "version": 3
   },
   "file_extension": ".py",
   "mimetype": "text/x-python",
   "name": "python",
   "nbconvert_exporter": "python",
   "pygments_lexer": "ipython3",
   "version": "3.6.5"
  }
 },
 "nbformat": 4,
 "nbformat_minor": 2
}
